{
 "cells": [
  {
   "cell_type": "code",
   "execution_count": 61,
   "id": "bd695ab7-06d5-4184-a5b9-4147a4847b97",
   "metadata": {},
   "outputs": [],
   "source": [
    "def set_media_conditions(model_file, biomass_ID, media_file, experimental_growth): \n",
    "    # Including the versions I used when developing -->\n",
    "    import pandas as pd #Version 2.2.3\n",
    "    import cobra #Version 0.29.0\n",
    "    from cobra.io import read_sbml_model\n",
    "    '''\n",
    "    GOAL: Define a dictionary for the media conditions on which a cell (line) to be modelled has been grown\n",
    "    \n",
    "    PROCESS: \n",
    "        1. Upload a CSV containing corresponding model reactions, metabolite concentrations, corresponding reactions and reaction boundaries\n",
    "        2. Iterate through the model, constraining each exchange reaction one-by-one\n",
    "        2a. If the exchange reaction is in the defined CSV, lower bound (uptake) will be set to the experimental g/L\n",
    "        2b. If the exchange reaction is not in the defined CSV, lower bound (uptake) is constrained to zero\n",
    "        2c. Each time an exchange reaction is constrained, FBA maximised for growth is solved and objective value is compared to experimental growth\n",
    "        2d. If predicted growth is slower than experimental, exchange is reopened\n",
    "\n",
    "    LOGIC AND ASSUMMPTIONS:\n",
    "        - The maximum concentration of a metabolite which the cell can consume is equal to the concentration in the media\n",
    "        - g/L equates to mmol/gDW/hour uptake\n",
    "        - If the cell cannot grow without this metabolite, but we have not defined it, it must be in some undefined media components, e.g. serum\n",
    "        - The cell is maximising biomass production\n",
    "    \n",
    "    PARAMETERS:\n",
    "        - 'model_file': A COBRA model, not yet constrained with 'omics data, I use XML file but might work with another file type\n",
    "        - 'biomass_ID' is the ID for the biomass equation in the model you are using\n",
    "        - 'media_file': a CSV containing the media definition, see example 'DMEM.csv' in folder\n",
    "        - Column 1: metabolite name, column 2: mg/L, column 3: g/L, column 4: reaction ID, column 5: lower_bound, column 6: upper bound\n",
    "        - 'experimental_growth': the experimental groth rate of the cell, to calculate this take the inverse of the cell's doubline time, e.g. 1/20 hours == 0.05 g/gDW/hour \n",
    "    \n",
    "    Returns:\n",
    "        - Dictionary\n",
    "        - Predicted growth with media constraints, FBA solved for growth maximisation\n",
    "        - List of reopened reactions (assumed to be contained in undefined media component)\n",
    "        - List of defined reactions (pre-specified in the 'media_file' CSV file\n",
    "        - List of closed reactions (assumed not to be consumed by the cell in the state being modelled)\n",
    "\n",
    "    Return types:\n",
    "        - Dictionary\n",
    "        - Float\n",
    "        - List\n",
    "        - List\n",
    "        - List\n",
    "    '''\n",
    "    # Load model and store exchange reactions as list\n",
    "    model = read_sbml_model(model_file)\n",
    "    exchanges = []\n",
    "    for e in model.exchanges:\n",
    "        exchanges.append(e.id)\n",
    "    \n",
    "    # Import defined media conditions\n",
    "    media_csv = pd.read_csv(media_file)\n",
    "\n",
    "    # Find the essential reactions, as these can't be constrained\n",
    "    print('Finding essential reactions...')\n",
    "    model.objective = model.reactions.get_by_id(biomass_ID)\n",
    "    essential_reactions = cobra.flux_analysis.variability.find_essential_reactions(model)\n",
    "    essential_list = []\n",
    "    for r in essential_reactions:\n",
    "        essential_list.append(r.id)\n",
    "    \n",
    "    # Make an initial media dictionary, which will then be iterated through to find reactions that need reopening\n",
    "    media = {}\n",
    "    for n in range(len(media_csv)):\n",
    "        if media_csv.iloc[n,3] in exchanges:\n",
    "            if media_csv.iloc[n,3] not in essential_list:\n",
    "                media[media_csv.iloc[n,3]] = (media_csv.iloc[n,4],media_csv.iloc[n,5])\n",
    "\n",
    "    # Go through exchange reactions and add constraints\n",
    "    for e in exchanges:\n",
    "        if e not in essential_list: # don't want to constrain essential reactions or cell won't grow\n",
    "            if e not in media.keys(): # don't want to constrain lower bound to zero on reactions that we have a concentration for\n",
    "                media[e] = (0,1000) # add exchange reactions one-by-one into the media dictionary\n",
    "                model.medium = media #this adds all the defined constraints as well as these one-by-one closings of exchanges\n",
    "                print(e, 'closed growth:', model.slim_optimize())\n",
    "                if model.slim_optimize() <= 0:\n",
    "                    media[e] = (-1000,1000)\n",
    "                    model.medium = media\n",
    "                    print(e, 'reopened growth:', model.slim_optimize())\n",
    "                elif model.slim_optimize() < experimental_growth:\n",
    "                    media[e] = (-1000,1000)\n",
    "                    model.medium = media\n",
    "                    print(e, 'reopened growth:', model.slim_optimize())\n",
    "                else:\n",
    "                    continue\n",
    "    final_media = media\n",
    "\n",
    "    # Make string for the objective value with final dictionary added\n",
    "    model.medium = final_media\n",
    "    final_growth = model.slim_optimize()\n",
    "    doubling_time = 1/final_growth\n",
    "    print('Final growth with media constraints:', final_growth, 'g/gDW/hour', '==', doubling_time, 'hours')\n",
    "\n",
    "    # Categorise final boundaries of the media and print results\n",
    "    reopened_reactions = []\n",
    "    closed_reactions = []\n",
    "    defined_reactions = []\n",
    "    for k,v in media.items():\n",
    "        if v == (-1000,1000):\n",
    "            reopened_reactions.append(k)\n",
    "        if v == (0,1000):\n",
    "            closed_reactions.append(k)\n",
    "        if v != (0,1000):\n",
    "            if v != (-1000,1000):\n",
    "                defined_reactions.append(k)\n",
    "    print('Defined reactions:', len(defined_reactions))\n",
    "    print('Closed reactions:', len(closed_reactions))\n",
    "    print('Reopened reactions:', len(reopened_reactions))\n",
    "    print('Number of exchange reactions:',len(model.exchanges))\n",
    "    reopened_metabolites = []\n",
    "    for r in reopened_reactions:\n",
    "        for m in model.reactions.get_by_id(r.id):\n",
    "            reopened_metabolites.append(m.name)\n",
    "    print('Metabolites in reopened reactions:',reopened_metabolites)\n",
    "    defined_metabolites = []\n",
    "    for r in defined_reactions:\n",
    "        for m in model.reactions.get_by_id(r.id):\n",
    "            defined_metabolites.append(m.name)\n",
    "    print('Metabolites in defined reactions:',defined_metabolites)\n",
    "    \n",
    "    return(final_media, final_growth, reopened_reactions, defined_reactions, closed_reactions)"
   ]
  },
  {
   "cell_type": "code",
   "execution_count": 90,
   "id": "3cc1f0c8-efe5-43c7-bb60-60116662d234",
   "metadata": {},
   "outputs": [],
   "source": [
    "def set_media_conditions_1(model_file, essential_reactions_list_name, biomass_ID, media_file, experimental_growth): \n",
    "    # Including the versions I used when developing -->\n",
    "    import pandas as pd #Version 2.2.3\n",
    "    import cobra #Version 0.29.0\n",
    "    from cobra.io import read_sbml_model\n",
    "    '''\n",
    "    GOAL: Define a dictionary for the media conditions on which a cell (line) to be modelled has been grown\n",
    "    \n",
    "    PROCESS: \n",
    "        1. Upload a CSV containing corresponding model reactions, metabolite concentrations, corresponding reactions and reaction boundaries\n",
    "        2. Iterate through the model, constraining each exchange reaction one-by-one\n",
    "        2a. If the exchange reaction is in the defined CSV, lower bound (uptake) will be set to the experimental g/L\n",
    "        2b. If the exchange reaction is not in the defined CSV, lower bound (uptake) is constrained to zero\n",
    "        2c. Each time an exchange reaction is constrained, FBA maximised for growth is solved and objective value is compared to experimental growth\n",
    "        2d. If predicted growth is slower than experimental, exchange is reopened\n",
    "\n",
    "    LOGIC AND ASSUMMPTIONS:\n",
    "        - The maximum concentration of a metabolite which the cell can consume is equal to the concentration in the media\n",
    "        - g/L equates to mmol/gDW/hour uptake\n",
    "        - If the cell cannot grow without this metabolite, but we have not defined it, it must be in some undefined media components, e.g. serum\n",
    "        - The cell is maximising biomass production\n",
    "    \n",
    "    PARAMETERS:\n",
    "        - 'model_file': A COBRA model, not yet constrained with 'omics data, I use XML file but might work with another file type\n",
    "        - 'biomass_ID' is the ID for the biomass equation in the model you are using\n",
    "        - 'media_file': a CSV containing the media definition, see example 'DMEM.csv' in folder\n",
    "        - Column 1: metabolite name, column 2: mg/L, column 3: g/L, column 4: reaction ID, column 5: lower_bound, column 6: upper bound\n",
    "        - 'experimental_growth': the experimental groth rate of the cell, to calculate this take the inverse of the cell's doubline time, e.g. 1/20 hours == 0.05 g/gDW/hour \n",
    "    \n",
    "    Returns:\n",
    "        - Dictionary\n",
    "        - Predicted growth with media constraints, FBA solved for growth maximisation\n",
    "        - List of reopened reactions (assumed to be contained in undefined media component)\n",
    "        - List of defined reactions (pre-specified in the 'media_file' CSV file\n",
    "        - List of closed reactions (assumed not to be consumed by the cell in the state being modelled)\n",
    "\n",
    "    Return types:\n",
    "        - Dictionary\n",
    "        - Float\n",
    "        - List\n",
    "        - List\n",
    "        - List\n",
    "    '''\n",
    "    # Load model and store exchange reactions as list\n",
    "    model = read_sbml_model(model_file)\n",
    "    exchanges = []\n",
    "    for e in model.exchanges:\n",
    "        exchanges.append(e.id)\n",
    "\n",
    "    # Solve original growth on unconstrained model\n",
    "    solution = model.optimize()\n",
    "    original_growth = float(solution.fluxes[biomass_ID])\n",
    "    print('Original growth',original_growth)\n",
    "    \n",
    "    # Import defined media conditions\n",
    "    media_csv = pd.read_csv(media_file)\n",
    "\n",
    "    # Find the essential reactions, as these can't be constrained\n",
    "    print('Finding essential reactions...')\n",
    "    essential_list = essential_reactions_list_name\n",
    "    \n",
    "    # Make an initial media dictionary, which will then be iterated through to find reactions that need reopening\n",
    "    media = {}\n",
    "    for n in range(len(media_csv)):\n",
    "        if media_csv.iloc[n,3] in exchanges:\n",
    "            if media_csv.iloc[n,3] not in essential_list:\n",
    "                media[media_csv.iloc[n,3]] = float(media_csv.iloc[n,4])\n",
    "\n",
    "    # Go through exchange reactions and add constraints\n",
    "    for e in exchanges:\n",
    "        if e not in essential_list: # don't want to constrain essential reactions or cell won't grow\n",
    "            if e not in media.keys(): # don't want to constrain lower bound to zero on reactions that we have a concentration for\n",
    "                media[e] = 0 # add exchange reactions one-by-one into the media dictionary\n",
    "                model.medium = media #this adds all the defined constraints as well as these one-by-one closings of exchanges\n",
    "                solution = model.optimize()\n",
    "                growth = float(solution.fluxes[biomass_ID])\n",
    "                print(e, 'closed growth:', growth)\n",
    "                if growth <= 0:\n",
    "                    media[e] = -1000\n",
    "                    model.medium = media\n",
    "                    solution = model.optimize()\n",
    "                    growth = float(solution.fluxes[biomass_ID])\n",
    "                    print(e, 'reopened growth:', growth)\n",
    "                elif growth < experimental_growth:\n",
    "                    media[e] = -1000\n",
    "                    model.medium = media\n",
    "                    solution = model.optimize()\n",
    "                    growth = float(solution.fluxes[biomass_ID])\n",
    "                    print(e, 'reopened growth:', growth)\n",
    "                else:\n",
    "                    continue\n",
    "    final_media = media\n",
    "\n",
    "    # Make string for the objective value with final dictionary added\n",
    "    model.medium = final_media\n",
    "    solution = model.optimize()\n",
    "    final_growth = float(solution.fluxes[biomass_ID])\n",
    "    doubling_time = 1/final_growth\n",
    "    print('Final growth with media constraints:', final_growth, 'g/gDW/hour', '==', doubling_time, 'hours')\n",
    "\n",
    "    # Categorise final boundaries of the media and print results\n",
    "    reopened_reactions = []\n",
    "    closed_reactions = []\n",
    "    defined_reactions = []\n",
    "    for k,v in media.items():\n",
    "        if v == (-1000,1000):\n",
    "            reopened_reactions.append(k)\n",
    "        if v == (0,1000):\n",
    "            closed_reactions.append(k)\n",
    "        if v != (0,1000):\n",
    "            if v != (-1000,1000):\n",
    "                defined_reactions.append(k)\n",
    "    print('Defined reactions:', len(defined_reactions))\n",
    "    print('Closed reactions:', len(closed_reactions))\n",
    "    print('Reopened reactions:', len(reopened_reactions))\n",
    "    print('Number of exchange reactions:',len(model.exchanges))\n",
    "    reopened_metabolites = []\n",
    "    for r in reopened_reactions:\n",
    "        for m in model.reactions.get_by_id(r.id):\n",
    "            reopened_metabolites.append(m.name)\n",
    "    print('Metabolites in reopened reactions:',reopened_metabolites)\n",
    "    defined_metabolites = []\n",
    "    for r in defined_reactions:\n",
    "        for m in model.reactions.get_by_id(r.id):\n",
    "            defined_metabolites.append(m.name)\n",
    "    print('Metabolites in defined reactions:',defined_metabolites)\n",
    "    \n",
    "    return(final_media, final_growth, reopened_reactions, defined_reactions, closed_reactions)"
   ]
  },
  {
   "cell_type": "code",
   "execution_count": 59,
   "id": "aaf11bed-8e74-4121-beb3-b0f5a13c2938",
   "metadata": {},
   "outputs": [],
   "source": [
    "essential_list = []\n",
    "for r in essential_reactions:\n",
    "    essential_list.append(r.id)"
   ]
  },
  {
   "cell_type": "code",
   "execution_count": 81,
   "id": "f83dbb0a-5244-4e55-a1b7-2ef758859df1",
   "metadata": {},
   "outputs": [],
   "source": [
    "exchanges = []\n",
    "for e in model.exchanges:\n",
    "    exchanges.append(e.id)\n",
    "media = {}\n",
    "for n in range(len(media_csv)):\n",
    "    if media_csv.iloc[n,3] in exchanges:\n",
    "        if media_csv.iloc[n,3] not in essential_list:\n",
    "            media[media_csv.iloc[n,3]] = float(media_csv.iloc[n,4])"
   ]
  },
  {
   "cell_type": "code",
   "execution_count": 82,
   "id": "a09be43c-a760-4906-a38a-56da9cb47461",
   "metadata": {
    "scrolled": true
   },
   "outputs": [
    {
     "data": {
      "text/plain": [
       "{'MAR09066': -0.084,\n",
       " 'MAR09065': -0.063,\n",
       " 'MAR09063': -0.584,\n",
       " 'MAR09067': -0.03,\n",
       " 'MAR09038': -0.042,\n",
       " 'MAR09039': -0.105,\n",
       " 'MAR09040': -0.105,\n",
       " 'MAR09041': -0.146,\n",
       " 'MAR09042': -0.03,\n",
       " 'MAR09043': -0.066,\n",
       " 'MAR09069': -0.042,\n",
       " 'MAR09044': -0.095,\n",
       " 'MAR09045': -0.016,\n",
       " 'MAR09064': -0.104,\n",
       " 'MAR09046': -0.094,\n",
       " 'MAR09083': -0.004,\n",
       " 'MAR09146': -0.004,\n",
       " 'MAR09361': -0.0072,\n",
       " 'MAR09378': -0.004,\n",
       " 'MAR09145': -0.004,\n",
       " 'MAR09144': -0.004,\n",
       " 'MAR09143': -0.0004,\n",
       " 'MAR09159': -0.004,\n",
       " 'MAR09034': -4.5}"
      ]
     },
     "execution_count": 82,
     "metadata": {},
     "output_type": "execute_result"
    }
   ],
   "source": [
    "media"
   ]
  },
  {
   "cell_type": "code",
   "execution_count": 86,
   "id": "d3884551-25b6-4648-86cc-6eb1eb365c5c",
   "metadata": {},
   "outputs": [],
   "source": [
    "essential_list.append('MAR07108')"
   ]
  },
  {
   "cell_type": "code",
   "execution_count": 91,
   "id": "95248a78-02e7-4eab-9231-10ae2c32907f",
   "metadata": {},
   "outputs": [
    {
     "name": "stdout",
     "output_type": "stream",
     "text": [
      "Original growth 187.35362997658086\n",
      "Finding essential reactions...\n"
     ]
    },
    {
     "name": "stderr",
     "output_type": "stream",
     "text": [
      "C:\\Users\\p04121km\\AppData\\Local\\anaconda3\\envs\\prosperity_project\\Lib\\site-packages\\cobra\\util\\solver.py:554: UserWarning: Solver status is 'infeasible'.\n",
      "  warn(f\"Solver status is '{status}'.\", UserWarning)\n"
     ]
    },
    {
     "name": "stdout",
     "output_type": "stream",
     "text": [
      "MAR07110 closed growth: 0.0\n",
      "MAR07110 reopened growth: 0.0\n"
     ]
    },
    {
     "name": "stderr",
     "output_type": "stream",
     "text": [
      "C:\\Users\\p04121km\\AppData\\Local\\anaconda3\\envs\\prosperity_project\\Lib\\site-packages\\cobra\\util\\solver.py:554: UserWarning: Solver status is 'infeasible'.\n",
      "  warn(f\"Solver status is '{status}'.\", UserWarning)\n",
      "C:\\Users\\p04121km\\AppData\\Local\\anaconda3\\envs\\prosperity_project\\Lib\\site-packages\\cobra\\util\\solver.py:554: UserWarning: Solver status is 'infeasible'.\n",
      "  warn(f\"Solver status is '{status}'.\", UserWarning)\n",
      "C:\\Users\\p04121km\\AppData\\Local\\anaconda3\\envs\\prosperity_project\\Lib\\site-packages\\cobra\\util\\solver.py:554: UserWarning: Solver status is 'infeasible'.\n",
      "  warn(f\"Solver status is '{status}'.\", UserWarning)\n"
     ]
    },
    {
     "name": "stdout",
     "output_type": "stream",
     "text": [
      "MAR07112 closed growth: 0.0\n",
      "MAR07112 reopened growth: 0.0\n",
      "MAR07114 closed growth: 0.0\n"
     ]
    },
    {
     "name": "stderr",
     "output_type": "stream",
     "text": [
      "C:\\Users\\p04121km\\AppData\\Local\\anaconda3\\envs\\prosperity_project\\Lib\\site-packages\\cobra\\util\\solver.py:554: UserWarning: Solver status is 'infeasible'.\n",
      "  warn(f\"Solver status is '{status}'.\", UserWarning)\n",
      "C:\\Users\\p04121km\\AppData\\Local\\anaconda3\\envs\\prosperity_project\\Lib\\site-packages\\cobra\\util\\solver.py:554: UserWarning: Solver status is 'infeasible'.\n",
      "  warn(f\"Solver status is '{status}'.\", UserWarning)\n",
      "C:\\Users\\p04121km\\AppData\\Local\\anaconda3\\envs\\prosperity_project\\Lib\\site-packages\\cobra\\util\\solver.py:554: UserWarning: Solver status is 'infeasible'.\n",
      "  warn(f\"Solver status is '{status}'.\", UserWarning)\n"
     ]
    },
    {
     "name": "stdout",
     "output_type": "stream",
     "text": [
      "MAR07114 reopened growth: 0.0\n",
      "MAR07116 closed growth: 0.0\n"
     ]
    },
    {
     "name": "stderr",
     "output_type": "stream",
     "text": [
      "C:\\Users\\p04121km\\AppData\\Local\\anaconda3\\envs\\prosperity_project\\Lib\\site-packages\\cobra\\util\\solver.py:554: UserWarning: Solver status is 'infeasible'.\n",
      "  warn(f\"Solver status is '{status}'.\", UserWarning)\n",
      "C:\\Users\\p04121km\\AppData\\Local\\anaconda3\\envs\\prosperity_project\\Lib\\site-packages\\cobra\\util\\solver.py:554: UserWarning: Solver status is 'infeasible'.\n",
      "  warn(f\"Solver status is '{status}'.\", UserWarning)\n"
     ]
    },
    {
     "name": "stdout",
     "output_type": "stream",
     "text": [
      "MAR07116 reopened growth: 0.0\n",
      "MAR07118 closed growth: 0.0\n"
     ]
    },
    {
     "name": "stderr",
     "output_type": "stream",
     "text": [
      "C:\\Users\\p04121km\\AppData\\Local\\anaconda3\\envs\\prosperity_project\\Lib\\site-packages\\cobra\\util\\solver.py:554: UserWarning: Solver status is 'infeasible'.\n",
      "  warn(f\"Solver status is '{status}'.\", UserWarning)\n",
      "C:\\Users\\p04121km\\AppData\\Local\\anaconda3\\envs\\prosperity_project\\Lib\\site-packages\\cobra\\util\\solver.py:554: UserWarning: Solver status is 'infeasible'.\n",
      "  warn(f\"Solver status is '{status}'.\", UserWarning)\n"
     ]
    },
    {
     "name": "stdout",
     "output_type": "stream",
     "text": [
      "MAR07118 reopened growth: 0.0\n",
      "MAR07120 closed growth: 0.0\n"
     ]
    },
    {
     "name": "stderr",
     "output_type": "stream",
     "text": [
      "C:\\Users\\p04121km\\AppData\\Local\\anaconda3\\envs\\prosperity_project\\Lib\\site-packages\\cobra\\util\\solver.py:554: UserWarning: Solver status is 'infeasible'.\n",
      "  warn(f\"Solver status is '{status}'.\", UserWarning)\n"
     ]
    },
    {
     "name": "stdout",
     "output_type": "stream",
     "text": [
      "MAR07120 reopened growth: 0.0\n",
      "MAR07122 closed growth: 0.0\n"
     ]
    },
    {
     "name": "stderr",
     "output_type": "stream",
     "text": [
      "C:\\Users\\p04121km\\AppData\\Local\\anaconda3\\envs\\prosperity_project\\Lib\\site-packages\\cobra\\util\\solver.py:554: UserWarning: Solver status is 'infeasible'.\n",
      "  warn(f\"Solver status is '{status}'.\", UserWarning)\n",
      "C:\\Users\\p04121km\\AppData\\Local\\anaconda3\\envs\\prosperity_project\\Lib\\site-packages\\cobra\\util\\solver.py:554: UserWarning: Solver status is 'infeasible'.\n",
      "  warn(f\"Solver status is '{status}'.\", UserWarning)\n"
     ]
    },
    {
     "name": "stdout",
     "output_type": "stream",
     "text": [
      "MAR07122 reopened growth: 0.0\n",
      "MAR07124 closed growth: 0.0\n"
     ]
    },
    {
     "name": "stderr",
     "output_type": "stream",
     "text": [
      "C:\\Users\\p04121km\\AppData\\Local\\anaconda3\\envs\\prosperity_project\\Lib\\site-packages\\cobra\\util\\solver.py:554: UserWarning: Solver status is 'infeasible'.\n",
      "  warn(f\"Solver status is '{status}'.\", UserWarning)\n",
      "C:\\Users\\p04121km\\AppData\\Local\\anaconda3\\envs\\prosperity_project\\Lib\\site-packages\\cobra\\util\\solver.py:554: UserWarning: Solver status is 'infeasible'.\n",
      "  warn(f\"Solver status is '{status}'.\", UserWarning)\n",
      "C:\\Users\\p04121km\\AppData\\Local\\anaconda3\\envs\\prosperity_project\\Lib\\site-packages\\cobra\\util\\solver.py:554: UserWarning: Solver status is 'infeasible'.\n",
      "  warn(f\"Solver status is '{status}'.\", UserWarning)\n"
     ]
    },
    {
     "name": "stdout",
     "output_type": "stream",
     "text": [
      "MAR07124 reopened growth: 0.0\n",
      "MAR07126 closed growth: 0.0\n"
     ]
    },
    {
     "name": "stderr",
     "output_type": "stream",
     "text": [
      "C:\\Users\\p04121km\\AppData\\Local\\anaconda3\\envs\\prosperity_project\\Lib\\site-packages\\cobra\\util\\solver.py:554: UserWarning: Solver status is 'infeasible'.\n",
      "  warn(f\"Solver status is '{status}'.\", UserWarning)\n"
     ]
    },
    {
     "name": "stdout",
     "output_type": "stream",
     "text": [
      "MAR07126 reopened growth: 0.0\n"
     ]
    },
    {
     "name": "stderr",
     "output_type": "stream",
     "text": [
      "C:\\Users\\p04121km\\AppData\\Local\\anaconda3\\envs\\prosperity_project\\Lib\\site-packages\\cobra\\util\\solver.py:554: UserWarning: Solver status is 'infeasible'.\n",
      "  warn(f\"Solver status is '{status}'.\", UserWarning)\n",
      "C:\\Users\\p04121km\\AppData\\Local\\anaconda3\\envs\\prosperity_project\\Lib\\site-packages\\cobra\\util\\solver.py:554: UserWarning: Solver status is 'infeasible'.\n",
      "  warn(f\"Solver status is '{status}'.\", UserWarning)\n"
     ]
    },
    {
     "name": "stdout",
     "output_type": "stream",
     "text": [
      "MAR09023 closed growth: 0.0\n"
     ]
    },
    {
     "ename": "KeyboardInterrupt",
     "evalue": "",
     "output_type": "error",
     "traceback": [
      "\u001b[1;31m---------------------------------------------------------------------------\u001b[0m",
      "\u001b[1;31mKeyboardInterrupt\u001b[0m                         Traceback (most recent call last)",
      "Cell \u001b[1;32mIn[91], line 1\u001b[0m\n\u001b[1;32m----> 1\u001b[0m result \u001b[38;5;241m=\u001b[39m set_media_conditions_1(\u001b[38;5;124m'\u001b[39m\u001b[38;5;124mHuman-GEM.xml\u001b[39m\u001b[38;5;124m'\u001b[39m, essential_list, \u001b[38;5;124m'\u001b[39m\u001b[38;5;124mMAR13082\u001b[39m\u001b[38;5;124m'\u001b[39m, \u001b[38;5;124m'\u001b[39m\u001b[38;5;124mDMEM.csv\u001b[39m\u001b[38;5;124m'\u001b[39m, \u001b[38;5;241m0.038\u001b[39m)\n\u001b[0;32m      2\u001b[0m result\n",
      "Cell \u001b[1;32mIn[90], line 81\u001b[0m, in \u001b[0;36mset_media_conditions_1\u001b[1;34m(model_file, essential_reactions_list_name, biomass_ID, media_file, experimental_growth)\u001b[0m\n\u001b[0;32m     79\u001b[0m media[e] \u001b[38;5;241m=\u001b[39m \u001b[38;5;241m-\u001b[39m\u001b[38;5;241m1000\u001b[39m\n\u001b[0;32m     80\u001b[0m model\u001b[38;5;241m.\u001b[39mmedium \u001b[38;5;241m=\u001b[39m media\n\u001b[1;32m---> 81\u001b[0m solution \u001b[38;5;241m=\u001b[39m model\u001b[38;5;241m.\u001b[39moptimize()\n\u001b[0;32m     82\u001b[0m growth \u001b[38;5;241m=\u001b[39m \u001b[38;5;28mfloat\u001b[39m(solution\u001b[38;5;241m.\u001b[39mfluxes[biomass_ID])\n\u001b[0;32m     83\u001b[0m \u001b[38;5;28mprint\u001b[39m(e, \u001b[38;5;124m'\u001b[39m\u001b[38;5;124mreopened growth:\u001b[39m\u001b[38;5;124m'\u001b[39m, growth)\n",
      "File \u001b[1;32m~\\AppData\\Local\\anaconda3\\envs\\prosperity_project\\Lib\\site-packages\\cobra\\core\\model.py:1233\u001b[0m, in \u001b[0;36mModel.optimize\u001b[1;34m(self, objective_sense, raise_error)\u001b[0m\n\u001b[0;32m   1229\u001b[0m \u001b[38;5;28mself\u001b[39m\u001b[38;5;241m.\u001b[39mobjective\u001b[38;5;241m.\u001b[39mdirection \u001b[38;5;241m=\u001b[39m {\u001b[38;5;124m\"\u001b[39m\u001b[38;5;124mmaximize\u001b[39m\u001b[38;5;124m\"\u001b[39m: \u001b[38;5;124m\"\u001b[39m\u001b[38;5;124mmax\u001b[39m\u001b[38;5;124m\"\u001b[39m, \u001b[38;5;124m\"\u001b[39m\u001b[38;5;124mminimize\u001b[39m\u001b[38;5;124m\"\u001b[39m: \u001b[38;5;124m\"\u001b[39m\u001b[38;5;124mmin\u001b[39m\u001b[38;5;124m\"\u001b[39m}\u001b[38;5;241m.\u001b[39mget(\n\u001b[0;32m   1230\u001b[0m     objective_sense, original_direction\n\u001b[0;32m   1231\u001b[0m )\n\u001b[0;32m   1232\u001b[0m \u001b[38;5;28mself\u001b[39m\u001b[38;5;241m.\u001b[39mslim_optimize()\n\u001b[1;32m-> 1233\u001b[0m solution \u001b[38;5;241m=\u001b[39m get_solution(\u001b[38;5;28mself\u001b[39m, raise_error\u001b[38;5;241m=\u001b[39mraise_error)\n\u001b[0;32m   1234\u001b[0m \u001b[38;5;28mself\u001b[39m\u001b[38;5;241m.\u001b[39mobjective\u001b[38;5;241m.\u001b[39mdirection \u001b[38;5;241m=\u001b[39m original_direction\n\u001b[0;32m   1235\u001b[0m \u001b[38;5;28;01mreturn\u001b[39;00m solution\n",
      "File \u001b[1;32m~\\AppData\\Local\\anaconda3\\envs\\prosperity_project\\Lib\\site-packages\\cobra\\core\\solution.py:196\u001b[0m, in \u001b[0;36mget_solution\u001b[1;34m(model, reactions, metabolites, raise_error)\u001b[0m\n\u001b[0;32m    194\u001b[0m     \u001b[38;5;28;01mfor\u001b[39;00m i, met \u001b[38;5;129;01min\u001b[39;00m \u001b[38;5;28menumerate\u001b[39m(metabolites):\n\u001b[0;32m    195\u001b[0m         met_index\u001b[38;5;241m.\u001b[39mappend(met\u001b[38;5;241m.\u001b[39mid)\n\u001b[1;32m--> 196\u001b[0m         shadow[i] \u001b[38;5;241m=\u001b[39m constr_duals[met\u001b[38;5;241m.\u001b[39mid]\n\u001b[0;32m    197\u001b[0m \u001b[38;5;28;01mreturn\u001b[39;00m Solution(\n\u001b[0;32m    198\u001b[0m     objective_value\u001b[38;5;241m=\u001b[39mmodel\u001b[38;5;241m.\u001b[39msolver\u001b[38;5;241m.\u001b[39mobjective\u001b[38;5;241m.\u001b[39mvalue,\n\u001b[0;32m    199\u001b[0m     status\u001b[38;5;241m=\u001b[39mmodel\u001b[38;5;241m.\u001b[39msolver\u001b[38;5;241m.\u001b[39mstatus,\n\u001b[1;32m   (...)\u001b[0m\n\u001b[0;32m    202\u001b[0m     shadow_prices\u001b[38;5;241m=\u001b[39mpd\u001b[38;5;241m.\u001b[39mSeries(index\u001b[38;5;241m=\u001b[39mmet_index, data\u001b[38;5;241m=\u001b[39mshadow, name\u001b[38;5;241m=\u001b[39m\u001b[38;5;124m\"\u001b[39m\u001b[38;5;124mshadow_prices\u001b[39m\u001b[38;5;124m\"\u001b[39m),\n\u001b[0;32m    203\u001b[0m )\n",
      "File \u001b[1;32m~\\AppData\\Local\\anaconda3\\envs\\prosperity_project\\Lib\\site-packages\\cobra\\core\\object.py:36\u001b[0m, in \u001b[0;36mObject.id\u001b[1;34m(self)\u001b[0m\n\u001b[0;32m     28\u001b[0m \u001b[38;5;129m@property\u001b[39m\n\u001b[0;32m     29\u001b[0m \u001b[38;5;28;01mdef\u001b[39;00m \u001b[38;5;21mid\u001b[39m(\u001b[38;5;28mself\u001b[39m) \u001b[38;5;241m-\u001b[39m\u001b[38;5;241m>\u001b[39m \u001b[38;5;28mstr\u001b[39m:\n\u001b[0;32m     30\u001b[0m \u001b[38;5;250m    \u001b[39m\u001b[38;5;124;03m\"\"\"Get the Object id.\u001b[39;00m\n\u001b[0;32m     31\u001b[0m \n\u001b[0;32m     32\u001b[0m \u001b[38;5;124;03m    Returns\u001b[39;00m\n\u001b[0;32m     33\u001b[0m \u001b[38;5;124;03m    -------\u001b[39;00m\n\u001b[0;32m     34\u001b[0m \u001b[38;5;124;03m    id: str\u001b[39;00m\n\u001b[0;32m     35\u001b[0m \u001b[38;5;124;03m    \"\"\"\u001b[39;00m\n\u001b[1;32m---> 36\u001b[0m     \u001b[38;5;28;01mreturn\u001b[39;00m \u001b[38;5;28mgetattr\u001b[39m(\u001b[38;5;28mself\u001b[39m, \u001b[38;5;124m\"\u001b[39m\u001b[38;5;124m_id\u001b[39m\u001b[38;5;124m\"\u001b[39m, \u001b[38;5;28;01mNone\u001b[39;00m)\n",
      "\u001b[1;31mKeyboardInterrupt\u001b[0m: "
     ]
    }
   ],
   "source": [
    "result = set_media_conditions_1('Human-GEM.xml', essential_list, 'MAR13082', 'DMEM.csv', 0.038)\n",
    "result\n",
    "#it's just something weird with the essential_reactions function, maybe I need to define this myself and compare lists...\n",
    "#save original constraints of each reaction in loop and add them back if closed growth is zero\n",
    "#or instead of using the model.medium function just change the lower bounds myself"
   ]
  },
  {
   "cell_type": "code",
   "execution_count": null,
   "id": "032c323a-feda-4d28-a5ac-b91afe4e21a3",
   "metadata": {},
   "outputs": [],
   "source": [
    "#change upper import bands (0,1000) to just 0 and so on"
   ]
  },
  {
   "cell_type": "code",
   "execution_count": 83,
   "id": "72c46e14-b55c-4a7e-9ec4-05465a07e745",
   "metadata": {},
   "outputs": [
    {
     "data": {
      "text/plain": [
       "8.644917859936877e-15"
      ]
     },
     "execution_count": 83,
     "metadata": {},
     "output_type": "execute_result"
    }
   ],
   "source": [
    "media = {}\n",
    "model.medium = media\n",
    "solution = model.optimize()\n",
    "growth = solution.fluxes['MAR13082']\n",
    "float(growth)"
   ]
  },
  {
   "cell_type": "code",
   "execution_count": null,
   "id": "70128b40-5487-479e-92be-b01e279792be",
   "metadata": {},
   "outputs": [],
   "source": []
  },
  {
   "cell_type": "code",
   "execution_count": null,
   "id": "d257ecd5-6a36-4083-ac2c-04fad60e87c2",
   "metadata": {},
   "outputs": [],
   "source": [
    "#make a modified version that doesn't need to solve essential reactions then save the non modified version"
   ]
  },
  {
   "cell_type": "code",
   "execution_count": 42,
   "id": "642060cc-88dd-452f-91ac-66b7fa28b0c5",
   "metadata": {
    "scrolled": true
   },
   "outputs": [
    {
     "data": {
      "text/plain": [
       "{<Reaction MAR00578 at 0x1b2a2de60d0>,\n",
       " <Reaction MAR00579 at 0x1b2a0fa3990>,\n",
       " <Reaction MAR00580 at 0x1b2a0fa8a50>,\n",
       " <Reaction MAR00581 at 0x1b2a0fa9f50>,\n",
       " <Reaction MAR00598 at 0x1b2a0fcdf10>,\n",
       " <Reaction MAR02129 at 0x1b2a1b49490>,\n",
       " <Reaction MAR02131 at 0x1b2a1b4b010>,\n",
       " <Reaction MAR02133 at 0x1b2a1b55110>,\n",
       " <Reaction MAR02134 at 0x1b2a1b54f90>,\n",
       " <Reaction MAR02135 at 0x1b2a1b56bd0>,\n",
       " <Reaction MAR02136 at 0x1b2a1b57ad0>,\n",
       " <Reaction MAR02139 at 0x1b2a1b54d90>,\n",
       " <Reaction MAR02142 at 0x1b2a1b5f290>,\n",
       " <Reaction MAR02143 at 0x1b2a1b6c190>,\n",
       " <Reaction MAR02144 at 0x1b2a1b6cf50>,\n",
       " <Reaction MAR02145 at 0x1b2a1b6de10>,\n",
       " <Reaction MAR04020 at 0x1b29ed66b90>,\n",
       " <Reaction MAR04030 at 0x1b29ee6c6d0>,\n",
       " <Reaction MAR04204 at 0x1b2a1b139d0>,\n",
       " <Reaction MAR04269 at 0x1b2a17a6d90>,\n",
       " <Reaction MAR04371 at 0x1b29eb63bd0>,\n",
       " <Reaction MAR05130 at 0x1b29f62aa50>,\n",
       " <Reaction MAR05131 at 0x1b29f634410>,\n",
       " <Reaction MAR05132 at 0x1b29f634f50>,\n",
       " <Reaction MAR05133 at 0x1b29f635a90>,\n",
       " <Reaction MAR05134 at 0x1b29f636550>,\n",
       " <Reaction MAR05135 at 0x1b29f637210>,\n",
       " <Reaction MAR05136 at 0x1b29f637d90>,\n",
       " <Reaction MAR05137 at 0x1b29f63c990>,\n",
       " <Reaction MAR05138 at 0x1b29f63d410>,\n",
       " <Reaction MAR05139 at 0x1b29f63e0d0>,\n",
       " <Reaction MAR05140 at 0x1b29f62b010>,\n",
       " <Reaction MAR05141 at 0x1b29f63f050>,\n",
       " <Reaction MAR05142 at 0x1b29f63fb50>,\n",
       " <Reaction MAR05143 at 0x1b29f650750>,\n",
       " <Reaction MAR05145 at 0x1b29f651b50>,\n",
       " <Reaction MAR05146 at 0x1b29f652c50>,\n",
       " <Reaction MAR05147 at 0x1b29f653750>,\n",
       " <Reaction MAR05148 at 0x1b29f658250>,\n",
       " <Reaction MAR05149 at 0x1b29f658dd0>,\n",
       " <Reaction MAR05150 at 0x1b29f659750>,\n",
       " <Reaction MAR06436 at 0x1b2a1bbd190>,\n",
       " <Reaction MAR06438 at 0x1b2a2f17750>,\n",
       " <Reaction MAR06453 at 0x1b2a1bf0a50>,\n",
       " <Reaction MAR06454 at 0x1b2a2f17f90>,\n",
       " <Reaction MAR06629 at 0x1b2a32184d0>,\n",
       " <Reaction MAR06634 at 0x1b2a19f9790>,\n",
       " <Reaction MAR06641 at 0x1b2a1a0d390>,\n",
       " <Reaction MAR06642 at 0x1b2a1a0df90>,\n",
       " <Reaction MAR06649 at 0x1b2a1a1fb10>,\n",
       " <Reaction MAR06654 at 0x1b2a1a2b2d0>,\n",
       " <Reaction MAR06655 at 0x1b2a1a2b250>,\n",
       " <Reaction MAR06656 at 0x1b2a1a34990>,\n",
       " <Reaction MAR06657 at 0x1b2a1a2b210>,\n",
       " <Reaction MAR06658 at 0x1b2a1a41090>,\n",
       " <Reaction MAR06664 at 0x1b2a1a48d10>,\n",
       " <Reaction MAR06665 at 0x1b2a1a49990>,\n",
       " <Reaction MAR06668 at 0x1b2a1a5ab50>,\n",
       " <Reaction MAR06669 at 0x1b2a1a64a90>,\n",
       " <Reaction MAR06677 at 0x1b2a1a6e350>,\n",
       " <Reaction MAR06678 at 0x1b2a1a40490>,\n",
       " <Reaction MAR06682 at 0x1b2a1a90790>,\n",
       " <Reaction MAR06687 at 0x1b2a1a9aad0>,\n",
       " <Reaction MAR06690 at 0x1b2a1a9b7d0>,\n",
       " <Reaction MAR06691 at 0x1b2a1a9ba90>,\n",
       " <Reaction MAR06692 at 0x1b2a1aa8050>,\n",
       " <Reaction MAR06693 at 0x1b2a1aa85d0>,\n",
       " <Reaction MAR06700 at 0x1b2a1aaa050>,\n",
       " <Reaction MAR06701 at 0x1b2a1aaaed0>,\n",
       " <Reaction MAR06702 at 0x1b2a1aaba50>,\n",
       " <Reaction MAR06703 at 0x1b2a1ab8650>,\n",
       " <Reaction MAR07160 at 0x1b29ef59bd0>,\n",
       " <Reaction MAR07161 at 0x1b29ef5b790>,\n",
       " <Reaction MAR07792 at 0x1b2a304c590>,\n",
       " <Reaction MAR07861 at 0x1b2a3056790>,\n",
       " <Reaction MAR07862 at 0x1b2a3056a50>,\n",
       " <Reaction MAR08612 at 0x1b2a2cb7690>,\n",
       " <Reaction MAR08613 at 0x1b2a1b24490>,\n",
       " <Reaction MAR08614 at 0x1b2a2f9c050>,\n",
       " <Reaction MAR08615 at 0x1b2a1b24bd0>,\n",
       " <Reaction MAR08616 at 0x1b2a1b25790>,\n",
       " <Reaction MAR08617 at 0x1b2a1df76d0>,\n",
       " <Reaction MAR09167 at 0x1b2a32d3490>,\n",
       " <Reaction MAR09269 at 0x1b2a32fffd0>,\n",
       " <Reaction MAR10023 at 0x1b2a5124e50>,\n",
       " <Reaction MAR10024 at 0x1b2a5125290>,\n",
       " <Reaction MAR10062 at 0x1b2a5187b50>,\n",
       " <Reaction MAR10063 at 0x1b2a5192ed0>,\n",
       " <Reaction MAR10064 at 0x1b2a5193190>,\n",
       " <Reaction MAR10065 at 0x1b2a519f950>,\n",
       " <Reaction MAR13082 at 0x1b2a51b1a90>,\n",
       " <Reaction MAR13086 at 0x1b2a5225b10>}"
      ]
     },
     "execution_count": 42,
     "metadata": {},
     "output_type": "execute_result"
    }
   ],
   "source": [
    "essential_reactions = cobra.flux_analysis.variability.find_essential_reactions(model)\n",
    "essential_reactions"
   ]
  },
  {
   "cell_type": "code",
   "execution_count": null,
   "id": "e8d414c4-444c-43c7-87e8-a40a40fbf5a3",
   "metadata": {},
   "outputs": [],
   "source": [
    "#DMEM comes from https://www.thermofisher.com/order/catalog/product/11965092?SID=srch-srp-11965092\n",
    "#experimental growth that I have used is same as in my thesis which was 0.038 g/gDW/hour"
   ]
  },
  {
   "cell_type": "code",
   "execution_count": null,
   "id": "f79ad760-7ff4-4a3d-9190-b99b47c710cd",
   "metadata": {},
   "outputs": [],
   "source": []
  }
 ],
 "metadata": {
  "kernelspec": {
   "display_name": "Python 3 (ipykernel)",
   "language": "python",
   "name": "python3"
  },
  "language_info": {
   "codemirror_mode": {
    "name": "ipython",
    "version": 3
   },
   "file_extension": ".py",
   "mimetype": "text/x-python",
   "name": "python",
   "nbconvert_exporter": "python",
   "pygments_lexer": "ipython3",
   "version": "3.11.9"
  }
 },
 "nbformat": 4,
 "nbformat_minor": 5
}
